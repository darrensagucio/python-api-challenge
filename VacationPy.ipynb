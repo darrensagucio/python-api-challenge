{
 "cells": [
  {
   "cell_type": "code",
   "execution_count": 120,
   "id": "figured-nothing",
   "metadata": {},
   "outputs": [],
   "source": [
    "# Dependencies and Setup\n",
    "import matplotlib.pyplot as plt\n",
    "import pandas as pd\n",
    "import numpy as np\n",
    "import requests\n",
    "import gmaps\n",
    "import os\n",
    "from pprint import pprint\n",
    "\n",
    "# Import API key\n",
    "from api_keys import g_key"
   ]
  },
  {
   "cell_type": "code",
   "execution_count": 162,
   "id": "senior-voltage",
   "metadata": {},
   "outputs": [],
   "source": [
    "# Reading In Weather CSV file\n",
    "\n",
    "weather_df = pd.read_csv('weather.csv')\n",
    "\n",
    "# weather_df"
   ]
  },
  {
   "cell_type": "markdown",
   "id": "american-foundation",
   "metadata": {},
   "source": [
    "## Humidity Heatmap"
   ]
  },
  {
   "cell_type": "code",
   "execution_count": 57,
   "id": "surrounded-lambda",
   "metadata": {},
   "outputs": [],
   "source": [
    "# GMap Configure \n",
    "\n",
    "gmaps.configure(g_key)"
   ]
  },
  {
   "cell_type": "code",
   "execution_count": 58,
   "id": "caroline-shore",
   "metadata": {},
   "outputs": [],
   "source": [
    "# Setting Variables \n",
    "\n",
    "locations = weather_df[[\"Lat\", \"Lng\"]]\n",
    "humidity = weather_df[\"Humidity\"].astype(float)"
   ]
  },
  {
   "cell_type": "code",
   "execution_count": 59,
   "id": "established-graphics",
   "metadata": {},
   "outputs": [
    {
     "data": {
      "application/vnd.jupyter.widget-view+json": {
       "model_id": "501addb21c4a46dc8c18dad9175d72c3",
       "version_major": 2,
       "version_minor": 0
      },
      "text/plain": [
       "Figure(layout=FigureLayout(height='420px'))"
      ]
     },
     "metadata": {},
     "output_type": "display_data"
    }
   ],
   "source": [
    "# Creating Heat Map \n",
    "\n",
    "heatfig = gmaps.figure()\n",
    "\n",
    "heat_layer = gmaps.heatmap_layer(locations, weights=humidity, \n",
    "                                 dissipating=False, max_intensity=humidity.max(),\n",
    "                                 point_radius = 3)\n",
    "\n",
    "heatfig.add_layer(heat_layer)\n",
    "\n",
    "heatfig"
   ]
  },
  {
   "cell_type": "markdown",
   "id": "three-amplifier",
   "metadata": {},
   "source": [
    "## Ideal Weather Criteria"
   ]
  },
  {
   "cell_type": "code",
   "execution_count": 163,
   "id": "fresh-speed",
   "metadata": {},
   "outputs": [],
   "source": [
    "# Duplicate Of Weather Data Frame \n",
    "\n",
    "hotel_df = weather_df\n",
    "\n",
    "# hotel_df "
   ]
  },
  {
   "cell_type": "code",
   "execution_count": 164,
   "id": "martial-harris",
   "metadata": {},
   "outputs": [],
   "source": [
    "# Ideal Weather Condition: Less Than 80 Degrees\n",
    "\n",
    "lessthan80_df = hotel_df.loc[hotel_df[\"Max Temp\"] <= 80]\n",
    "\n",
    "# lessthan80_df"
   ]
  },
  {
   "cell_type": "code",
   "execution_count": 165,
   "id": "demonstrated-circle",
   "metadata": {},
   "outputs": [],
   "source": [
    "# Ideal Weather Condition: Greater Than 70 Degrees\n",
    "\n",
    "higherthan70_df = lessthan80_df.loc[lessthan80_df[\"Max Temp\"] >= 70]\n",
    "\n",
    "#higherthan70_df"
   ]
  },
  {
   "cell_type": "code",
   "execution_count": 166,
   "id": "institutional-hollow",
   "metadata": {},
   "outputs": [],
   "source": [
    "# Ideal Weather Condition: Wind Speed Less Than 10 mph \n",
    "\n",
    "lessthan10mph_df = higherthan70_df.loc[higherthan70_df[\"Wind Speed\"] < 10]\n",
    "\n",
    "# lessthan10mph_df"
   ]
  },
  {
   "cell_type": "code",
   "execution_count": 167,
   "id": "pleased-accommodation",
   "metadata": {},
   "outputs": [],
   "source": [
    "# Ideal Weather Condition: No clouds\n",
    "\n",
    "zeroclouds_df = lessthan10mph_df.loc[lessthan10mph_df[\"Cloudiness\"]== 0]\n",
    "\n",
    "# zeroclouds_df"
   ]
  },
  {
   "cell_type": "code",
   "execution_count": 71,
   "id": "related-sympathy",
   "metadata": {},
   "outputs": [],
   "source": [
    "# Ideal Locations DataFrame \n",
    "\n",
    "perfect_vacation_df = zeroclouds_df"
   ]
  },
  {
   "cell_type": "code",
   "execution_count": 104,
   "id": "preceding-indonesian",
   "metadata": {},
   "outputs": [
    {
     "data": {
      "text/html": [
       "<div>\n",
       "<style scoped>\n",
       "    .dataframe tbody tr th:only-of-type {\n",
       "        vertical-align: middle;\n",
       "    }\n",
       "\n",
       "    .dataframe tbody tr th {\n",
       "        vertical-align: top;\n",
       "    }\n",
       "\n",
       "    .dataframe thead th {\n",
       "        text-align: right;\n",
       "    }\n",
       "</style>\n",
       "<table border=\"1\" class=\"dataframe\">\n",
       "  <thead>\n",
       "    <tr style=\"text-align: right;\">\n",
       "      <th></th>\n",
       "      <th>City</th>\n",
       "      <th>Lat</th>\n",
       "      <th>Lng</th>\n",
       "      <th>Max Temp</th>\n",
       "      <th>Humidity</th>\n",
       "      <th>Cloudiness</th>\n",
       "      <th>Wind Speed</th>\n",
       "      <th>Country</th>\n",
       "      <th>Date</th>\n",
       "    </tr>\n",
       "  </thead>\n",
       "  <tbody>\n",
       "    <tr>\n",
       "      <th>62</th>\n",
       "      <td>goderich</td>\n",
       "      <td>43.7501</td>\n",
       "      <td>-81.7165</td>\n",
       "      <td>71.15</td>\n",
       "      <td>43</td>\n",
       "      <td>0</td>\n",
       "      <td>5.66</td>\n",
       "      <td>CA</td>\n",
       "      <td>1616163703</td>\n",
       "    </tr>\n",
       "    <tr>\n",
       "      <th>160</th>\n",
       "      <td>korla</td>\n",
       "      <td>41.7597</td>\n",
       "      <td>86.1469</td>\n",
       "      <td>77.19</td>\n",
       "      <td>69</td>\n",
       "      <td>0</td>\n",
       "      <td>0.72</td>\n",
       "      <td>CN</td>\n",
       "      <td>1616163616</td>\n",
       "    </tr>\n",
       "    <tr>\n",
       "      <th>450</th>\n",
       "      <td>fort-shevchenko</td>\n",
       "      <td>44.5086</td>\n",
       "      <td>50.2630</td>\n",
       "      <td>78.34</td>\n",
       "      <td>81</td>\n",
       "      <td>0</td>\n",
       "      <td>5.59</td>\n",
       "      <td>KZ</td>\n",
       "      <td>1616163896</td>\n",
       "    </tr>\n",
       "    <tr>\n",
       "      <th>403</th>\n",
       "      <td>parainen</td>\n",
       "      <td>60.3067</td>\n",
       "      <td>22.3010</td>\n",
       "      <td>71.48</td>\n",
       "      <td>34</td>\n",
       "      <td>0</td>\n",
       "      <td>2.57</td>\n",
       "      <td>FI</td>\n",
       "      <td>1616163873</td>\n",
       "    </tr>\n",
       "    <tr>\n",
       "      <th>515</th>\n",
       "      <td>nemuro</td>\n",
       "      <td>43.3236</td>\n",
       "      <td>145.5750</td>\n",
       "      <td>71.27</td>\n",
       "      <td>77</td>\n",
       "      <td>0</td>\n",
       "      <td>6.53</td>\n",
       "      <td>JP</td>\n",
       "      <td>1616163930</td>\n",
       "    </tr>\n",
       "    <tr>\n",
       "      <th>141</th>\n",
       "      <td>hami</td>\n",
       "      <td>42.8000</td>\n",
       "      <td>93.4500</td>\n",
       "      <td>74.92</td>\n",
       "      <td>27</td>\n",
       "      <td>0</td>\n",
       "      <td>1.18</td>\n",
       "      <td>CN</td>\n",
       "      <td>1616163743</td>\n",
       "    </tr>\n",
       "    <tr>\n",
       "      <th>330</th>\n",
       "      <td>urumqi</td>\n",
       "      <td>43.8010</td>\n",
       "      <td>87.6005</td>\n",
       "      <td>72.15</td>\n",
       "      <td>74</td>\n",
       "      <td>0</td>\n",
       "      <td>2.00</td>\n",
       "      <td>CN</td>\n",
       "      <td>1616163605</td>\n",
       "    </tr>\n",
       "    <tr>\n",
       "      <th>474</th>\n",
       "      <td>orebro</td>\n",
       "      <td>59.2741</td>\n",
       "      <td>15.2066</td>\n",
       "      <td>77.15</td>\n",
       "      <td>24</td>\n",
       "      <td>0</td>\n",
       "      <td>2.57</td>\n",
       "      <td>SE</td>\n",
       "      <td>1616163908</td>\n",
       "    </tr>\n",
       "    <tr>\n",
       "      <th>177</th>\n",
       "      <td>esterhazy</td>\n",
       "      <td>50.6500</td>\n",
       "      <td>-102.0843</td>\n",
       "      <td>72.15</td>\n",
       "      <td>86</td>\n",
       "      <td>0</td>\n",
       "      <td>3.09</td>\n",
       "      <td>CA</td>\n",
       "      <td>1616163760</td>\n",
       "    </tr>\n",
       "  </tbody>\n",
       "</table>\n",
       "</div>"
      ],
      "text/plain": [
       "                City      Lat       Lng  Max Temp  Humidity  Cloudiness  \\\n",
       "62          goderich  43.7501  -81.7165     71.15        43           0   \n",
       "160            korla  41.7597   86.1469     77.19        69           0   \n",
       "450  fort-shevchenko  44.5086   50.2630     78.34        81           0   \n",
       "403         parainen  60.3067   22.3010     71.48        34           0   \n",
       "515           nemuro  43.3236  145.5750     71.27        77           0   \n",
       "141             hami  42.8000   93.4500     74.92        27           0   \n",
       "330           urumqi  43.8010   87.6005     72.15        74           0   \n",
       "474           orebro  59.2741   15.2066     77.15        24           0   \n",
       "177        esterhazy  50.6500 -102.0843     72.15        86           0   \n",
       "\n",
       "     Wind Speed Country        Date  \n",
       "62         5.66      CA  1616163703  \n",
       "160        0.72      CN  1616163616  \n",
       "450        5.59      KZ  1616163896  \n",
       "403        2.57      FI  1616163873  \n",
       "515        6.53      JP  1616163930  \n",
       "141        1.18      CN  1616163743  \n",
       "330        2.00      CN  1616163605  \n",
       "474        2.57      SE  1616163908  \n",
       "177        3.09      CA  1616163760  "
      ]
     },
     "execution_count": 104,
     "metadata": {},
     "output_type": "execute_result"
    }
   ],
   "source": [
    "# Pick Nine Random Ideal Locations \n",
    "# https://www.geeksforgeeks.org/how-to-randomly-select-rows-from-pandas-dataframe/\n",
    "\n",
    "nine_random_vacation_hotels_df = perfect_vacation_df.sample(n = 9)\n",
    "nine_random_vacation_hotels_df"
   ]
  },
  {
   "cell_type": "markdown",
   "id": "injured-arthritis",
   "metadata": {},
   "source": [
    "## Hotel Map"
   ]
  },
  {
   "cell_type": "code",
   "execution_count": 169,
   "id": "aging-jerusalem",
   "metadata": {},
   "outputs": [],
   "source": [
    "# Adding Hotel Name Column\n",
    "\n",
    "nine_random_vacation_hotels_df[\"Hotel Name\"] = \"\"\n",
    "\n",
    "# nine_random_vacation_hotels_df"
   ]
  },
  {
   "cell_type": "code",
   "execution_count": 158,
   "id": "british-substance",
   "metadata": {},
   "outputs": [
    {
     "name": "stdout",
     "output_type": "stream",
     "text": [
      "Hotels Found! Comfort Inn & Suites\n",
      "Hotels Found! the puju\n",
      "Hotels Found! Eles Hotel\n",
      "Hotel Not Found!\n",
      "Hotels Found! TomaYa\n",
      "Hotels Found! 哈密环球大酒店\n",
      "Hotels Found! JinJiang International Hotel Urumqi\n",
      "Hotels Found! Elite Stora Hotellet Örebro\n",
      "Hotels Found! Western Star Inn & Suites - Esterhazy\n"
     ]
    }
   ],
   "source": [
    "# Search URL And Params\n",
    "\n",
    "base_url = \"https://maps.googleapis.com/maps/api/place/nearbysearch/json\"\n",
    "params = {\n",
    "          \"radius\":5000,\n",
    "          \"type\":\"hotel\",\n",
    "          \"keyword\":\"hotel\",\n",
    "          \"key\":g_key\n",
    "         }\n",
    "\n",
    "for index, row in nine_random_vacation_hotels_df.iterrows():\n",
    "    \n",
    "    lat_int = row['Lat']\n",
    "    lng_int = row['Lng']\n",
    "    \n",
    "    # Converting Variables To String\n",
    "    # https://pythonprinciples.com/blog/converting-integer-to-string-in-python/\n",
    "    \n",
    "    lat_string = str(lat_int)\n",
    "    lng_string = str(lng_int)\n",
    "    \n",
    "    params['location'] = f\"{lat_string},{lng_string}\"\n",
    "    \n",
    "    #Getting Responses\n",
    "    response = requests.get(base_url, params=params).json()\n",
    "    \n",
    "    results = response['results']\n",
    "    \n",
    "    #Inputting Hotel Names To DF\n",
    "    \n",
    "    try: \n",
    "        hotel_name = results[1]['name']\n",
    "        nine_random_vacation_hotels_df.loc[index, 'Hotel Name'] = hotel_name\n",
    "        print(f\"Hotels Found! {hotel_name}\")\n",
    "    except:\n",
    "        nine_random_vacation_hotels_df.loc[index, 'Hotel Name'] = 'N/A'\n",
    "        print(\"Hotel Not Found!\")"
   ]
  },
  {
   "cell_type": "code",
   "execution_count": 170,
   "id": "extreme-broadcasting",
   "metadata": {},
   "outputs": [],
   "source": [
    "# Making Sure That Hotel Names Are In DataFrame \n",
    "# nine_random_vacation_hotels_df"
   ]
  },
  {
   "cell_type": "code",
   "execution_count": 160,
   "id": "comparable-friendship",
   "metadata": {},
   "outputs": [],
   "source": [
    "# Using The Template Add The Hotel Marks To The Heatmap\n",
    "\n",
    "info_box_template = \"\"\"\n",
    "<dl>\n",
    "<dt>Name</dt><dd>{Hotel Name}</dd>\n",
    "<dt>City</dt><dd>{City}</dd>\n",
    "<dt>Country</dt><dd>{Country}</dd>\n",
    "</dl>\n",
    "\"\"\"\n",
    "# Store The DataFrame Row\n",
    "# NOTE: be sure to update with your DataFrame name\n",
    "\n",
    "hotel_info = [info_box_template.format(**row) for index, row in nine_random_vacation_hotels_df.iterrows()]\n",
    "locations = nine_random_vacation_hotels_df[[\"Lat\", \"Lng\"]]"
   ]
  },
  {
   "cell_type": "code",
   "execution_count": 161,
   "id": "prospective-penalty",
   "metadata": {},
   "outputs": [
    {
     "data": {
      "application/vnd.jupyter.widget-view+json": {
       "model_id": "501addb21c4a46dc8c18dad9175d72c3",
       "version_major": 2,
       "version_minor": 0
      },
      "text/plain": [
       "Figure(layout=FigureLayout(height='420px'))"
      ]
     },
     "metadata": {},
     "output_type": "display_data"
    }
   ],
   "source": [
    "# Adding Marker Locations To DataFrame \n",
    "\n",
    "markers = gmaps.marker_layer(locations,\n",
    "    info_box_content=hotel_info)\n",
    "heatfig.add_layer(markers)\n",
    "heatfig"
   ]
  }
 ],
 "metadata": {
  "kernelspec": {
   "display_name": "Python [conda env:PythonData] *",
   "language": "python",
   "name": "conda-env-PythonData-py"
  },
  "language_info": {
   "codemirror_mode": {
    "name": "ipython",
    "version": 3
   },
   "file_extension": ".py",
   "mimetype": "text/x-python",
   "name": "python",
   "nbconvert_exporter": "python",
   "pygments_lexer": "ipython3",
   "version": "3.6.10"
  }
 },
 "nbformat": 4,
 "nbformat_minor": 5
}
